{
  "cells": [
    {
      "cell_type": "markdown",
      "metadata": {
        "id": "-WuEfEVo2seo"
      },
      "source": [
        "# EE675A - Assignment 1"
      ]
    },
    {
      "cell_type": "markdown",
      "metadata": {
        "id": "i29hbFMG2ses"
      },
      "source": [
        "**Name: Rahul Narayan**  <br />\n",
        "**Roll No: 210806**\n",
        "***\n",
        "## Instructions\n",
        "\n",
        "- **Release Date**: **21st Jan 2024**  \n",
        "- **Deadline**: **Part B : 4th Feb 2024 11:59PM**\n",
        "- Kindly name your submission files as `RollNo_Name_A1_PartB.ipynb`, based on the part you are submitting. Marks will be deducted for all submissions that do not follow the naming guidelines. <br />\n",
        "- You are required to work out your answers and submit only the iPython Notebook. The code should be well commented and easy to understand as there are marks for this. This notebook can be used as a template for assignment submission. <br />\n",
        "- Submissions are to be made through HelloIITK portal. Submissions made through mail will not be graded.<br />\n",
        "- Answers to the theory questions if any should be included in the notebook itself. While using special symbols use the $\\LaTeX$ mode <br />\n",
        "- Make sure your plots are clear and have title, legends and clear lines, etc. <br />\n",
        "- Plagiarism of any form will not be tolerated. If your solutions are found to match with other students or from other uncited sources, there will be heavy penalties and the incident will be reported to the disciplinary authorities. <br />\n",
        "- In case you have any doubts, feel free to reach out to TAs for help. <br />\n",
        "\n",
        "***\n",
        "## Introduction\n",
        "\n",
        "You are free to use parts of the given code but may also choose to write the whole thing on your own.  \n",
        "The illustrations for Part-B are adapted from [Alejandro's blog post](https://medium.com/@alejandro.aristizabal24/understanding-reinforcement-learning-hands-on-part-2-multi-armed-bandits-526592072bdc) on Multi-Armed Bandits. Throughout the course we will be using the [Gymnasium toolkit](https://gymnasium.farama.org/index.html) for the assignements so before starting you may want to go through the [basic usage](https://gymnasium.farama.org/content/basic_usage/) and basics of gymnasium and the installation procedure."
      ]
    },
    {
      "cell_type": "markdown",
      "metadata": {
        "id": "wON2nVET2set"
      },
      "source": [
        "***\n",
        "# Part B: Multi-armed bandits\n",
        "## Demo and Preliminaries\n",
        "\n",
        "We will begin by getting familiar with the basic problem setup before we dig in to the actual assignement problems. Let's start by loading all the required libraries for this notebook. For generating plots you must have `ipympl` installed and `jupyter-matplotlib` extension installed and enabled."
      ]
    },
    {
      "cell_type": "code",
      "execution_count": 2,
      "metadata": {
        "colab": {
          "base_uri": "https://localhost:8080/"
        },
        "id": "H89KRE9N2seu",
        "outputId": "61f33953-b2f2-4d69-db1b-9a277b13dc12"
      },
      "outputs": [
        {
          "name": "stdout",
          "output_type": "stream",
          "text": [
            "/bin/bash: line 1: python.exe: command not found\n",
            "Requirement already satisfied: gymnasium in /usr/local/lib/python3.10/dist-packages (0.29.1)\n",
            "Requirement already satisfied: numpy>=1.21.0 in /usr/local/lib/python3.10/dist-packages (from gymnasium) (1.23.5)\n",
            "Requirement already satisfied: cloudpickle>=1.2.0 in /usr/local/lib/python3.10/dist-packages (from gymnasium) (2.2.1)\n",
            "Requirement already satisfied: typing-extensions>=4.3.0 in /usr/local/lib/python3.10/dist-packages (from gymnasium) (4.9.0)\n",
            "Requirement already satisfied: farama-notifications>=0.0.1 in /usr/local/lib/python3.10/dist-packages (from gymnasium) (0.0.4)\n",
            "Requirement already satisfied: ipympl in /usr/local/lib/python3.10/dist-packages (0.9.3)\n",
            "Requirement already satisfied: ipython<9 in /usr/local/lib/python3.10/dist-packages (from ipympl) (7.34.0)\n",
            "Requirement already satisfied: numpy in /usr/local/lib/python3.10/dist-packages (from ipympl) (1.23.5)\n",
            "Requirement already satisfied: ipython-genutils in /usr/local/lib/python3.10/dist-packages (from ipympl) (0.2.0)\n",
            "Requirement already satisfied: pillow in /usr/local/lib/python3.10/dist-packages (from ipympl) (9.4.0)\n",
            "Requirement already satisfied: traitlets<6 in /usr/local/lib/python3.10/dist-packages (from ipympl) (5.7.1)\n",
            "Requirement already satisfied: ipywidgets<9,>=7.6.0 in /usr/local/lib/python3.10/dist-packages (from ipympl) (7.7.1)\n",
            "Requirement already satisfied: matplotlib<4,>=3.4.0 in /usr/local/lib/python3.10/dist-packages (from ipympl) (3.7.1)\n",
            "Requirement already satisfied: setuptools>=18.5 in /usr/local/lib/python3.10/dist-packages (from ipython<9->ipympl) (67.7.2)\n",
            "Requirement already satisfied: jedi>=0.16 in /usr/local/lib/python3.10/dist-packages (from ipython<9->ipympl) (0.19.1)\n",
            "Requirement already satisfied: decorator in /usr/local/lib/python3.10/dist-packages (from ipython<9->ipympl) (4.4.2)\n",
            "Requirement already satisfied: pickleshare in /usr/local/lib/python3.10/dist-packages (from ipython<9->ipympl) (0.7.5)\n",
            "Requirement already satisfied: prompt-toolkit!=3.0.0,!=3.0.1,<3.1.0,>=2.0.0 in /usr/local/lib/python3.10/dist-packages (from ipython<9->ipympl) (3.0.43)\n",
            "Requirement already satisfied: pygments in /usr/local/lib/python3.10/dist-packages (from ipython<9->ipympl) (2.16.1)\n",
            "Requirement already satisfied: backcall in /usr/local/lib/python3.10/dist-packages (from ipython<9->ipympl) (0.2.0)\n",
            "Requirement already satisfied: matplotlib-inline in /usr/local/lib/python3.10/dist-packages (from ipython<9->ipympl) (0.1.6)\n",
            "Requirement already satisfied: pexpect>4.3 in /usr/local/lib/python3.10/dist-packages (from ipython<9->ipympl) (4.9.0)\n",
            "Requirement already satisfied: ipykernel>=4.5.1 in /usr/local/lib/python3.10/dist-packages (from ipywidgets<9,>=7.6.0->ipympl) (5.5.6)\n",
            "Requirement already satisfied: widgetsnbextension~=3.6.0 in /usr/local/lib/python3.10/dist-packages (from ipywidgets<9,>=7.6.0->ipympl) (3.6.6)\n",
            "Requirement already satisfied: jupyterlab-widgets>=1.0.0 in /usr/local/lib/python3.10/dist-packages (from ipywidgets<9,>=7.6.0->ipympl) (3.0.9)\n",
            "Requirement already satisfied: contourpy>=1.0.1 in /usr/local/lib/python3.10/dist-packages (from matplotlib<4,>=3.4.0->ipympl) (1.2.0)\n",
            "Requirement already satisfied: cycler>=0.10 in /usr/local/lib/python3.10/dist-packages (from matplotlib<4,>=3.4.0->ipympl) (0.12.1)\n",
            "Requirement already satisfied: fonttools>=4.22.0 in /usr/local/lib/python3.10/dist-packages (from matplotlib<4,>=3.4.0->ipympl) (4.48.1)\n",
            "Requirement already satisfied: kiwisolver>=1.0.1 in /usr/local/lib/python3.10/dist-packages (from matplotlib<4,>=3.4.0->ipympl) (1.4.5)\n",
            "Requirement already satisfied: packaging>=20.0 in /usr/local/lib/python3.10/dist-packages (from matplotlib<4,>=3.4.0->ipympl) (23.2)\n",
            "Requirement already satisfied: pyparsing>=2.3.1 in /usr/local/lib/python3.10/dist-packages (from matplotlib<4,>=3.4.0->ipympl) (3.1.1)\n",
            "Requirement already satisfied: python-dateutil>=2.7 in /usr/local/lib/python3.10/dist-packages (from matplotlib<4,>=3.4.0->ipympl) (2.8.2)\n",
            "Requirement already satisfied: jupyter-client in /usr/local/lib/python3.10/dist-packages (from ipykernel>=4.5.1->ipywidgets<9,>=7.6.0->ipympl) (6.1.12)\n",
            "Requirement already satisfied: tornado>=4.2 in /usr/local/lib/python3.10/dist-packages (from ipykernel>=4.5.1->ipywidgets<9,>=7.6.0->ipympl) (6.3.2)\n",
            "Requirement already satisfied: parso<0.9.0,>=0.8.3 in /usr/local/lib/python3.10/dist-packages (from jedi>=0.16->ipython<9->ipympl) (0.8.3)\n",
            "Requirement already satisfied: ptyprocess>=0.5 in /usr/local/lib/python3.10/dist-packages (from pexpect>4.3->ipython<9->ipympl) (0.7.0)\n",
            "Requirement already satisfied: wcwidth in /usr/local/lib/python3.10/dist-packages (from prompt-toolkit!=3.0.0,!=3.0.1,<3.1.0,>=2.0.0->ipython<9->ipympl) (0.2.13)\n",
            "Requirement already satisfied: six>=1.5 in /usr/local/lib/python3.10/dist-packages (from python-dateutil>=2.7->matplotlib<4,>=3.4.0->ipympl) (1.16.0)\n",
            "Requirement already satisfied: notebook>=4.4.1 in /usr/local/lib/python3.10/dist-packages (from widgetsnbextension~=3.6.0->ipywidgets<9,>=7.6.0->ipympl) (6.5.5)\n",
            "Requirement already satisfied: jinja2 in /usr/local/lib/python3.10/dist-packages (from notebook>=4.4.1->widgetsnbextension~=3.6.0->ipywidgets<9,>=7.6.0->ipympl) (3.1.3)\n",
            "Requirement already satisfied: pyzmq<25,>=17 in /usr/local/lib/python3.10/dist-packages (from notebook>=4.4.1->widgetsnbextension~=3.6.0->ipywidgets<9,>=7.6.0->ipympl) (23.2.1)\n",
            "Requirement already satisfied: argon2-cffi in /usr/local/lib/python3.10/dist-packages (from notebook>=4.4.1->widgetsnbextension~=3.6.0->ipywidgets<9,>=7.6.0->ipympl) (23.1.0)\n",
            "Requirement already satisfied: jupyter-core>=4.6.1 in /usr/local/lib/python3.10/dist-packages (from notebook>=4.4.1->widgetsnbextension~=3.6.0->ipywidgets<9,>=7.6.0->ipympl) (5.7.1)\n",
            "Requirement already satisfied: nbformat in /usr/local/lib/python3.10/dist-packages (from notebook>=4.4.1->widgetsnbextension~=3.6.0->ipywidgets<9,>=7.6.0->ipympl) (5.9.2)\n",
            "Requirement already satisfied: nbconvert>=5 in /usr/local/lib/python3.10/dist-packages (from notebook>=4.4.1->widgetsnbextension~=3.6.0->ipywidgets<9,>=7.6.0->ipympl) (6.5.4)\n",
            "Requirement already satisfied: nest-asyncio>=1.5 in /usr/local/lib/python3.10/dist-packages (from notebook>=4.4.1->widgetsnbextension~=3.6.0->ipywidgets<9,>=7.6.0->ipympl) (1.6.0)\n",
            "Requirement already satisfied: Send2Trash>=1.8.0 in /usr/local/lib/python3.10/dist-packages (from notebook>=4.4.1->widgetsnbextension~=3.6.0->ipywidgets<9,>=7.6.0->ipympl) (1.8.2)\n",
            "Requirement already satisfied: terminado>=0.8.3 in /usr/local/lib/python3.10/dist-packages (from notebook>=4.4.1->widgetsnbextension~=3.6.0->ipywidgets<9,>=7.6.0->ipympl) (0.18.0)\n",
            "Requirement already satisfied: prometheus-client in /usr/local/lib/python3.10/dist-packages (from notebook>=4.4.1->widgetsnbextension~=3.6.0->ipywidgets<9,>=7.6.0->ipympl) (0.19.0)\n",
            "Requirement already satisfied: nbclassic>=0.4.7 in /usr/local/lib/python3.10/dist-packages (from notebook>=4.4.1->widgetsnbextension~=3.6.0->ipywidgets<9,>=7.6.0->ipympl) (1.0.0)\n",
            "Requirement already satisfied: platformdirs>=2.5 in /usr/local/lib/python3.10/dist-packages (from jupyter-core>=4.6.1->notebook>=4.4.1->widgetsnbextension~=3.6.0->ipywidgets<9,>=7.6.0->ipympl) (4.2.0)\n",
            "Requirement already satisfied: jupyter-server>=1.8 in /usr/local/lib/python3.10/dist-packages (from nbclassic>=0.4.7->notebook>=4.4.1->widgetsnbextension~=3.6.0->ipywidgets<9,>=7.6.0->ipympl) (1.24.0)\n",
            "Requirement already satisfied: notebook-shim>=0.2.3 in /usr/local/lib/python3.10/dist-packages (from nbclassic>=0.4.7->notebook>=4.4.1->widgetsnbextension~=3.6.0->ipywidgets<9,>=7.6.0->ipympl) (0.2.3)\n",
            "Requirement already satisfied: lxml in /usr/local/lib/python3.10/dist-packages (from nbconvert>=5->notebook>=4.4.1->widgetsnbextension~=3.6.0->ipywidgets<9,>=7.6.0->ipympl) (4.9.4)\n",
            "Requirement already satisfied: beautifulsoup4 in /usr/local/lib/python3.10/dist-packages (from nbconvert>=5->notebook>=4.4.1->widgetsnbextension~=3.6.0->ipywidgets<9,>=7.6.0->ipympl) (4.12.3)\n",
            "Requirement already satisfied: bleach in /usr/local/lib/python3.10/dist-packages (from nbconvert>=5->notebook>=4.4.1->widgetsnbextension~=3.6.0->ipywidgets<9,>=7.6.0->ipympl) (6.1.0)\n",
            "Requirement already satisfied: defusedxml in /usr/local/lib/python3.10/dist-packages (from nbconvert>=5->notebook>=4.4.1->widgetsnbextension~=3.6.0->ipywidgets<9,>=7.6.0->ipympl) (0.7.1)\n",
            "Requirement already satisfied: entrypoints>=0.2.2 in /usr/local/lib/python3.10/dist-packages (from nbconvert>=5->notebook>=4.4.1->widgetsnbextension~=3.6.0->ipywidgets<9,>=7.6.0->ipympl) (0.4)\n",
            "Requirement already satisfied: jupyterlab-pygments in /usr/local/lib/python3.10/dist-packages (from nbconvert>=5->notebook>=4.4.1->widgetsnbextension~=3.6.0->ipywidgets<9,>=7.6.0->ipympl) (0.3.0)\n",
            "Requirement already satisfied: MarkupSafe>=2.0 in /usr/local/lib/python3.10/dist-packages (from nbconvert>=5->notebook>=4.4.1->widgetsnbextension~=3.6.0->ipywidgets<9,>=7.6.0->ipympl) (2.1.5)\n",
            "Requirement already satisfied: mistune<2,>=0.8.1 in /usr/local/lib/python3.10/dist-packages (from nbconvert>=5->notebook>=4.4.1->widgetsnbextension~=3.6.0->ipywidgets<9,>=7.6.0->ipympl) (0.8.4)\n",
            "Requirement already satisfied: nbclient>=0.5.0 in /usr/local/lib/python3.10/dist-packages (from nbconvert>=5->notebook>=4.4.1->widgetsnbextension~=3.6.0->ipywidgets<9,>=7.6.0->ipympl) (0.9.0)\n",
            "Requirement already satisfied: pandocfilters>=1.4.1 in /usr/local/lib/python3.10/dist-packages (from nbconvert>=5->notebook>=4.4.1->widgetsnbextension~=3.6.0->ipywidgets<9,>=7.6.0->ipympl) (1.5.1)\n",
            "Requirement already satisfied: tinycss2 in /usr/local/lib/python3.10/dist-packages (from nbconvert>=5->notebook>=4.4.1->widgetsnbextension~=3.6.0->ipywidgets<9,>=7.6.0->ipympl) (1.2.1)\n",
            "Requirement already satisfied: fastjsonschema in /usr/local/lib/python3.10/dist-packages (from nbformat->notebook>=4.4.1->widgetsnbextension~=3.6.0->ipywidgets<9,>=7.6.0->ipympl) (2.19.1)\n",
            "Requirement already satisfied: jsonschema>=2.6 in /usr/local/lib/python3.10/dist-packages (from nbformat->notebook>=4.4.1->widgetsnbextension~=3.6.0->ipywidgets<9,>=7.6.0->ipympl) (4.19.2)\n",
            "Requirement already satisfied: argon2-cffi-bindings in /usr/local/lib/python3.10/dist-packages (from argon2-cffi->notebook>=4.4.1->widgetsnbextension~=3.6.0->ipywidgets<9,>=7.6.0->ipympl) (21.2.0)\n",
            "Requirement already satisfied: attrs>=22.2.0 in /usr/local/lib/python3.10/dist-packages (from jsonschema>=2.6->nbformat->notebook>=4.4.1->widgetsnbextension~=3.6.0->ipywidgets<9,>=7.6.0->ipympl) (23.2.0)\n",
            "Requirement already satisfied: jsonschema-specifications>=2023.03.6 in /usr/local/lib/python3.10/dist-packages (from jsonschema>=2.6->nbformat->notebook>=4.4.1->widgetsnbextension~=3.6.0->ipywidgets<9,>=7.6.0->ipympl) (2023.12.1)\n",
            "Requirement already satisfied: referencing>=0.28.4 in /usr/local/lib/python3.10/dist-packages (from jsonschema>=2.6->nbformat->notebook>=4.4.1->widgetsnbextension~=3.6.0->ipywidgets<9,>=7.6.0->ipympl) (0.33.0)\n",
            "Requirement already satisfied: rpds-py>=0.7.1 in /usr/local/lib/python3.10/dist-packages (from jsonschema>=2.6->nbformat->notebook>=4.4.1->widgetsnbextension~=3.6.0->ipywidgets<9,>=7.6.0->ipympl) (0.17.1)\n",
            "Requirement already satisfied: anyio<4,>=3.1.0 in /usr/local/lib/python3.10/dist-packages (from jupyter-server>=1.8->nbclassic>=0.4.7->notebook>=4.4.1->widgetsnbextension~=3.6.0->ipywidgets<9,>=7.6.0->ipympl) (3.7.1)\n",
            "Requirement already satisfied: websocket-client in /usr/local/lib/python3.10/dist-packages (from jupyter-server>=1.8->nbclassic>=0.4.7->notebook>=4.4.1->widgetsnbextension~=3.6.0->ipywidgets<9,>=7.6.0->ipympl) (1.7.0)\n",
            "Requirement already satisfied: cffi>=1.0.1 in /usr/local/lib/python3.10/dist-packages (from argon2-cffi-bindings->argon2-cffi->notebook>=4.4.1->widgetsnbextension~=3.6.0->ipywidgets<9,>=7.6.0->ipympl) (1.16.0)\n",
            "Requirement already satisfied: soupsieve>1.2 in /usr/local/lib/python3.10/dist-packages (from beautifulsoup4->nbconvert>=5->notebook>=4.4.1->widgetsnbextension~=3.6.0->ipywidgets<9,>=7.6.0->ipympl) (2.5)\n",
            "Requirement already satisfied: webencodings in /usr/local/lib/python3.10/dist-packages (from bleach->nbconvert>=5->notebook>=4.4.1->widgetsnbextension~=3.6.0->ipywidgets<9,>=7.6.0->ipympl) (0.5.1)\n",
            "Requirement already satisfied: idna>=2.8 in /usr/local/lib/python3.10/dist-packages (from anyio<4,>=3.1.0->jupyter-server>=1.8->nbclassic>=0.4.7->notebook>=4.4.1->widgetsnbextension~=3.6.0->ipywidgets<9,>=7.6.0->ipympl) (3.6)\n",
            "Requirement already satisfied: sniffio>=1.1 in /usr/local/lib/python3.10/dist-packages (from anyio<4,>=3.1.0->jupyter-server>=1.8->nbclassic>=0.4.7->notebook>=4.4.1->widgetsnbextension~=3.6.0->ipywidgets<9,>=7.6.0->ipympl) (1.3.0)\n",
            "Requirement already satisfied: exceptiongroup in /usr/local/lib/python3.10/dist-packages (from anyio<4,>=3.1.0->jupyter-server>=1.8->nbclassic>=0.4.7->notebook>=4.4.1->widgetsnbextension~=3.6.0->ipywidgets<9,>=7.6.0->ipympl) (1.2.0)\n",
            "Requirement already satisfied: pycparser in /usr/local/lib/python3.10/dist-packages (from cffi>=1.0.1->argon2-cffi-bindings->argon2-cffi->notebook>=4.4.1->widgetsnbextension~=3.6.0->ipywidgets<9,>=7.6.0->ipympl) (2.21)\n",
            "Requirement already satisfied: matplotlib in /usr/local/lib/python3.10/dist-packages (3.7.1)\n",
            "Requirement already satisfied: contourpy>=1.0.1 in /usr/local/lib/python3.10/dist-packages (from matplotlib) (1.2.0)\n",
            "Requirement already satisfied: cycler>=0.10 in /usr/local/lib/python3.10/dist-packages (from matplotlib) (0.12.1)\n",
            "Requirement already satisfied: fonttools>=4.22.0 in /usr/local/lib/python3.10/dist-packages (from matplotlib) (4.48.1)\n",
            "Requirement already satisfied: kiwisolver>=1.0.1 in /usr/local/lib/python3.10/dist-packages (from matplotlib) (1.4.5)\n",
            "Requirement already satisfied: numpy>=1.20 in /usr/local/lib/python3.10/dist-packages (from matplotlib) (1.23.5)\n",
            "Requirement already satisfied: packaging>=20.0 in /usr/local/lib/python3.10/dist-packages (from matplotlib) (23.2)\n",
            "Requirement already satisfied: pillow>=6.2.0 in /usr/local/lib/python3.10/dist-packages (from matplotlib) (9.4.0)\n",
            "Requirement already satisfied: pyparsing>=2.3.1 in /usr/local/lib/python3.10/dist-packages (from matplotlib) (3.1.1)\n",
            "Requirement already satisfied: python-dateutil>=2.7 in /usr/local/lib/python3.10/dist-packages (from matplotlib) (2.8.2)\n",
            "Requirement already satisfied: six>=1.5 in /usr/local/lib/python3.10/dist-packages (from python-dateutil>=2.7->matplotlib) (1.16.0)\n",
            "Requirement already satisfied: tqdm in /usr/local/lib/python3.10/dist-packages (4.66.1)\n"
          ]
        }
      ],
      "source": [
        "# Import necessary libraries\n",
        "!python.exe -m pip install --upgrade pip\n",
        "!pip install \"gymnasium\"\n",
        "!pip install ipympl\n",
        "!pip install matplotlib\n",
        "!pip install tqdm\n",
        "%matplotlib widget\n",
        "import numpy as np\n",
        "import matplotlib.pyplot as plt\n",
        "from matplotlib.animation import FuncAnimation\n",
        "import gymnasium as gym\n",
        "from tqdm import tqdm\n",
        "import time"
      ]
    },
    {
      "cell_type": "markdown",
      "metadata": {
        "id": "9O01qmZN2sev"
      },
      "source": [
        "## Scenario\n",
        "\n",
        "The Multi-Armed Bandit describes a situation in which an agent has only one state, and multiple actions to interact with the environment. Each action gives a random reward, centered on an unkown value. Our agent wants to maximize the reward received, which means it wants to find the action that yields a higher reward. Based on this, let's build the scenario.\n",
        "\n",
        "We're going to implement the multi-armed bandit environment using OpenAI's gym interface. Also, our implementation will be vectorized for the sake of optimization. This allows us to run multiple agents on multiple environments at the same time. The code below is based on [this implementation](https://github.com/diegoalejogm/openai-k-armed-bandits)"
      ]
    },
    {
      "cell_type": "code",
      "execution_count": 3,
      "metadata": {
        "id": "Vz6nX5I_2sev"
      },
      "outputs": [],
      "source": [
        "from gymnasium import spaces\n",
        "from gymnasium.utils import seeding\n",
        "import gymnasium as gym\n",
        "\n",
        "class ArmedBanditsEnv(gym.Env):\n",
        "    \"\"\"\n",
        "    The famous k-Armed Bandit Environment, implemented for the gym interface.\n",
        "    Initialization requires an array of length equals to k, where each item is\n",
        "    a function which samples from a specified distribution.\n",
        "    \"\"\"\n",
        "    metadata = {'render.modes': ['human']}\n",
        "\n",
        "    def __init__(self, mean, stddev):\n",
        "        assert len(mean.shape) == 2\n",
        "        assert len(stddev.shape) == 2\n",
        "\n",
        "        super(ArmedBanditsEnv, self).__init__()\n",
        "        # Define action and observation space\n",
        "        self.num_bandits = mean.shape[1]\n",
        "        self.num_experiments = mean.shape[0]\n",
        "        self.action_space = spaces.Discrete(self.num_bandits)\n",
        "\n",
        "        # Theres one state only in the k-armed bandits problem\n",
        "        self.observation_space = spaces.Discrete(1)\n",
        "        self.mean = mean\n",
        "        self.stddev = stddev\n",
        "\n",
        "    def step(self, action):\n",
        "        # Sample from the specified bandit using it's reward distribution\n",
        "        assert (action < self.num_bandits).all()\n",
        "\n",
        "        sampled_means = self.mean[np.arange(self.num_experiments),action]\n",
        "        sampled_stddevs = self.stddev[np.arange(self.num_experiments),action]\n",
        "\n",
        "        reward = np.random.normal(loc=sampled_means, scale=sampled_stddevs, size=(1,self.num_experiments))\n",
        "\n",
        "        # Return a constant state of 0. Our environment has no terminal state\n",
        "        observation, done, info = 0, False, dict()\n",
        "        return observation, reward, done, info\n",
        "\n",
        "    def reset(self):\n",
        "        return 0\n",
        "\n",
        "    def render(self, mode='human', close=False):\n",
        "        pass\n",
        "\n",
        "    def _seed(self, seed=None):\n",
        "        self.np_random, seed = seeding.np.random(seed)\n",
        "        return [seed]\n",
        "\n",
        "    def close(self):\n",
        "        pass\n",
        "\n",
        "\n",
        "class ArmedBanditsGaussian(ArmedBanditsEnv):\n",
        "    def __init__(self, num_experiments=1, num_bandits=3):\n",
        "        self.means = np.random.normal(size=(num_experiments, num_bandits))\n",
        "\n",
        "        ArmedBanditsEnv.__init__(self, self.means, np.ones((num_experiments, num_bandits)))"
      ]
    },
    {
      "cell_type": "markdown",
      "metadata": {
        "id": "fWmKZ0uX2sew"
      },
      "source": [
        "Here we're creating two classes, `ArmedBanditsEnv` is the main class, while `ArmedBanditsGaussian` is an auxiliary class that allows us to easily create an environment with random mean rewards for each action. Our environment receives numpy arrays for the means and standard deviations for each action. The dimensions of this arrays are described as `num_experiments`x`num_bandits`. Taking a step requires a numpy vector of size `num_experiments`, where each value specifies which action to take for each experiment. The step functions returns, among other information, a vector of reward obtained for each experiment. Let's see this in action:"
      ]
    },
    {
      "cell_type": "code",
      "execution_count": 4,
      "metadata": {
        "colab": {
          "base_uri": "https://localhost:8080/"
        },
        "id": "rc9rBv-T2sex",
        "outputId": "7c34a0a6-b9cd-4310-8c0e-41fd740607c2"
      },
      "outputs": [
        {
          "name": "stdout",
          "output_type": "stream",
          "text": [
            "Bandit: 0  gave a reward of: [4.30421128]\n",
            "Bandit: 1  gave a reward of: [1.17966818]\n",
            "Bandit: 2  gave a reward of: [6.0026164]\n",
            "Bandit: 3  gave a reward of: [-9.12272978]\n"
          ]
        }
      ],
      "source": [
        "means = np.array([[5, 1, 0, -10]]) # The mean for a four-armed bandit. Single experiment\n",
        "stdev = np.array([[1, 0.1, 5, 1]]) # The standard deviation for a four-armed bandit.\n",
        "\n",
        "env = ArmedBanditsEnv(means, stdev) # Create the environment\n",
        "\n",
        "for i in range(4):\n",
        "    action = np.array([[i]])\n",
        "    _, reward, _, _ = env.step(action)\n",
        "    print(\"Bandit:\", i, \" gave a reward of:\", reward[0])"
      ]
    },
    {
      "cell_type": "markdown",
      "metadata": {
        "id": "tSsziz9u2sey"
      },
      "source": [
        "## Evaluating our actions"
      ]
    },
    {
      "cell_type": "markdown",
      "metadata": {
        "id": "P8g7dhvZ2sez"
      },
      "source": [
        "In order to learn something from our interaction with the environment, we need to know how exactly we determine the value of our actions, as well as how to keep that value up to date. A simple strategy our agents can take is to calculate the expected return for each action. This can be done through experience by taking the average of previous rewards given by a determined action.\n",
        "\n",
        "For example, we can use the next list of rewards to calculate the expected return of the chosen action:\n",
        "\n",
        "$\\bar{\\mu}_n = \\dfrac{R_1+R_2+\\dots+R_n}{n}$\n",
        "\n",
        "Having to store all the previously seen rewards to calculate the value of an action is cumbersome, inefficient and unnecessary. We can derive another form of average, called *Incremental average update rule*, which only requires us to know the previous average $\\bar{\\mu}_{n-1}$ and the number $n$:\n",
        "\n",
        "$\\bar{\\mu}_n = \\bar{\\mu}_{n-1} + \\dfrac{1}{n}(R_n - \\bar{\\mu}_{n-1})$\n",
        "\n",
        "Here's a small demonstration of this function at work"
      ]
    },
    {
      "cell_type": "code",
      "execution_count": null,
      "metadata": {
        "id": "_hvBWbzZ2sez"
      },
      "outputs": [],
      "source": [
        "def inc_avg(prev_avg, new_val, n):\n",
        "    return prev_avg + 1/n*(new_val - prev_avg)\n",
        "\n",
        "# Obtain the previous average\n",
        "vals = np.array([4.5, 5.04, 5.32, 4.8, 5.11])\n",
        "prev_avg = vals.mean()\n",
        "\n",
        "# Calculate a new average using the incremental average update function\n",
        "new_val = 5.18\n",
        "new_avg = inc_avg(prev_avg, new_val, 6)\n",
        "\n",
        "# Calculate the same average using all previous values for comparison\n",
        "avg = np.append(vals, new_val).mean()\n",
        "\n",
        "print(\"Average obtained from incremental update rule: \", new_avg)\n",
        "print(\"Average obtained from basic average function:  \", avg)"
      ]
    },
    {
      "cell_type": "markdown",
      "metadata": {
        "id": "di0QdX_n2sez"
      },
      "source": [
        "This method will be used on the next strategies"
      ]
    },
    {
      "cell_type": "markdown",
      "metadata": {
        "id": "hEuDOZ852se0"
      },
      "source": [
        "## The Greedy Agent\n",
        "\n",
        "This strategy is focused on always choosing the best known action at the time. Every time the agent takes an action, it looks at the estimated values for each action, and chooses the one that has a greater score. If more than two values look best, then the agent selects arbitrarily among those best-valued actions. This is called breaking ties arbitrarily\n",
        "\n",
        "Taking the action with the greatest value is equivalent to using the **argmax** function. Although, we need to implement some changes so that the funciton breaks the ties the way we intend it to do:"
      ]
    },
    {
      "cell_type": "code",
      "execution_count": null,
      "metadata": {
        "id": "IFNJoUd92se0"
      },
      "outputs": [],
      "source": [
        "def argmax(q_values):\n",
        "    \"\"\"\n",
        "    Takes in a matrix of n*k q_values and returns the index\n",
        "    of the item with the highest value for each row.\n",
        "    Breaks ties randomly.\n",
        "    returns: vector of size n, where each item is the index of\n",
        "    the highest value in q_values for each row.\n",
        "    \"\"\"\n",
        "    # Generate a mask of the max values for each row\n",
        "    mask = q_values == q_values.max(axis=1)[:, None]\n",
        "    # Generate noise to be added to the ties\n",
        "    r_noise = 1e-6*np.random.random(q_values.shape)\n",
        "    # Get the argmax of the noisy masked values\n",
        "    return np.argmax(r_noise*mask,axis=1)"
      ]
    },
    {
      "cell_type": "markdown",
      "metadata": {
        "id": "AfXWUrgO2se0"
      },
      "source": [
        "Here we're generating a mask of all the values in the input that are equal to the maximum value. Then ,we generate some noise and multiply it with the mask. Taking the argmax of this new list will be equivalent to the desired argmax with ties broken arbitrarily.\n",
        "\n",
        "Now that we have specified the argmax function, we can declare our class for the Greedy Agent, which is capable of acting upon the environment, and updating its estimates after receiving a reward."
      ]
    },
    {
      "cell_type": "code",
      "execution_count": null,
      "metadata": {
        "id": "dUjX3Vz02se1"
      },
      "outputs": [],
      "source": [
        "class GreedyAgent:\n",
        "    def __init__(self, reward_estimates):\n",
        "        \"\"\"\n",
        "        Our agent takes as input the initial reward estimates.\n",
        "        This estimates will be updated incrementally after each\n",
        "        interaction with the environment.\n",
        "        \"\"\"\n",
        "        assert len(reward_estimates.shape) == 2\n",
        "\n",
        "        self.num_bandits = reward_estimates.shape[1]\n",
        "        self.num_experiments = reward_estimates.shape[0]\n",
        "        self.reward_estimates = reward_estimates.astype(np.float64)\n",
        "        self.action_count = np.zeros(reward_estimates.shape)\n",
        "\n",
        "    def get_action(self):\n",
        "        # Our agent is greedy, so there's no need for exploration.\n",
        "        # Our argmax will do just fine for this situation\n",
        "        action = argmax(self.reward_estimates)\n",
        "\n",
        "        # Add a 1 to each action selected in the action count\n",
        "        self.action_count[np.arange(self.num_experiments), action] += 1\n",
        "\n",
        "        return action\n",
        "\n",
        "    def update_estimates(self, reward, action):\n",
        "        # rew is a matrix with the obtained rewards from our previuos\n",
        "        # action. Use this to update our estimates incrementally\n",
        "        n = self.action_count[np.arange(self.num_experiments), action]\n",
        "        prev_reward_estimates = self.reward_estimates[np.arange(self.num_experiments), action]\n",
        "\n",
        "        # Update the reward estimates incementally\n",
        "        self.reward_estimates[np.arange(self.num_experiments), action] = inc_avg(prev_reward_estimates,reward,n)"
      ]
    },
    {
      "cell_type": "markdown",
      "metadata": {
        "id": "GkLDTxGg2se1"
      },
      "source": [
        "The greedy agent contains a matrix for the estimates, as well as for the number of times each action has been taken. This is necessary for using the incremental average update rule, used inside the `update_estimates` function."
      ]
    },
    {
      "cell_type": "markdown",
      "metadata": {
        "id": "sQmJ4qtp2se1"
      },
      "source": [
        "### Testing the agent\n",
        "\n",
        "Let's see how the Greedy Agent behaves on the environment. For this, we're going to generate some animations where we're able to see how the agent estimates the values for each action, as well as the real values provided by the environment. Remember that the agent doesn't have access to that information."
      ]
    },
    {
      "cell_type": "code",
      "execution_count": null,
      "metadata": {
        "id": "Z_jM_1_W2se1"
      },
      "outputs": [],
      "source": [
        "# Initialize the environment of our multi-armed bandit problem\n",
        "num_experiments = 2\n",
        "num_bandits = 8\n",
        "num_steps = 100\n",
        "means = np.random.normal(size=(num_experiments, num_bandits))\n",
        "stdev = np.ones((num_experiments, num_bandits))\n",
        "\n",
        "env = ArmedBanditsEnv(means, stdev)\n",
        "\n",
        "# Initialize the agent\n",
        "agent = GreedyAgent(np.zeros((num_experiments,num_bandits)))\n",
        "\n",
        "# Code for plotting the interaction\n",
        "fig, axs = plt.subplots(1, num_experiments, figsize=(10, 4))\n",
        "x_pos = np.arange(num_bandits)\n",
        "\n",
        "def init():\n",
        "    axa = [];\n",
        "    for i in range(num_experiments):\n",
        "        init_ax(i)\n",
        "        # axa.append(init_ax(i))\n",
        "    # return axa\n",
        "\n",
        "def init_ax(i):\n",
        "    ax = axs[i]\n",
        "    ax.clear()\n",
        "    ax.set_ylim(-4, 4)\n",
        "    ax.set_xlim(-0.5, num_bandits-.5)\n",
        "    ax.set_xlabel('Actions', fontsize=14)\n",
        "    ax.set_ylabel('Value', fontsize=14)\n",
        "    ax.set_title(label='Estimated Values vs. Real values', fontsize=15)\n",
        "    ax.plot(x_pos, env.mean[i], marker='D', linestyle='', alpha=0.8, color='r', label='Real Values')\n",
        "    ax.axhline(0, color='black', lw=1)\n",
        "    # return ax\n",
        "\n",
        "\n",
        "# Implement a step, which involves the agent acting upon the\n",
        "# environment and learning from the received reward.\n",
        "def step(g):\n",
        "    action = agent.get_action()\n",
        "    _, reward, _, _ = env.step(action)\n",
        "    agent.update_estimates(reward, action)\n",
        "    axa = []\n",
        "    for i in range(num_experiments):\n",
        "        ax = axs[i]\n",
        "        # Plot the estimated values from the agent compared to the real values\n",
        "        estimates = agent.reward_estimates[i]\n",
        "        init_ax(i)\n",
        "        values = ax.bar(x_pos, estimates, align='center', color='blue', alpha=0.4, label='Estimated Values')\n",
        "        ax.legend()\n",
        "        # axa.append(ax)\n",
        "    # return axa\n",
        "\n",
        "anim = FuncAnimation(fig, func=step, frames=num_steps, init_func=init, interval=10, repeat=False, blit=True)\n",
        "plt.show()\n",
        "\n",
        "# Uncomment the next line if you wish to store the animations as a gif\n",
        "# anim.save('./greedy-agent.gif', writer='imagemagick', fps=60)\n"
      ]
    },
    {
      "cell_type": "markdown",
      "metadata": {
        "id": "liI8-lBU2se2"
      },
      "source": [
        "you may try the previous block of code multiple times to see multiple animations. In general, you may realize that most of the actions are not explored by the agent, and that it will mostly stick to the one action that gave it some positive reward. The agent is good at evading negative values, but it will only land on the optimal action by pure chance.\n",
        "\n",
        "We can plot the average behavior by doing more experiments. The next plot displays the percentage of times the agent chose the optimal action over an average of 10000 experiments."
      ]
    },
    {
      "cell_type": "code",
      "execution_count": null,
      "metadata": {
        "id": "mBAlPJxg2se2"
      },
      "outputs": [],
      "source": [
        "num_experiments = 10000\n",
        "num_steps = 1000\n",
        "num_actions = 10\n",
        "\n",
        "# Initialize the environment\n",
        "env = ArmedBanditsGaussian(num_experiments, num_actions)\n",
        "# Initialize the agent\n",
        "agent = GreedyAgent(np.zeros((num_experiments, num_actions)))\n",
        "\n",
        "# Store the scores and averages for later plotting\n",
        "averages = np.zeros((num_steps))\n",
        "optimality = np.zeros((num_steps))\n",
        "scores = np.zeros((num_experiments, num_steps+1))\n",
        "\n",
        "#Store the optimal actions for later use\n",
        "optimal = np.argmax(env.mean, axis=1)\n",
        "\n",
        "for i in tqdm(range(num_steps)):\n",
        "    # Select an action to execute on the environment\n",
        "    action = agent.get_action()\n",
        "    _, reward, _, _ = env.step(action)\n",
        "\n",
        "    # Update the agent estimates with the previously observed rewards\n",
        "    agent.update_estimates(reward, action)\n",
        "\n",
        "    # Store the average cumulative score and optimality of the current step\n",
        "    scores[:,i+1] = scores[:,i] + reward\n",
        "    avg_score = np.mean(scores[:,i+1]/(i+1))\n",
        "    averages[i] = avg_score\n",
        "\n",
        "    # Get optimal actions from the environment\n",
        "    current_optimality = np.mean(action == optimal)\n",
        "    optimality[i] = current_optimality\n",
        "\n",
        "plt.figure(figsize=(12,6), dpi=80, facecolor='w', edgecolor='k')\n",
        "plt.plot([1.0 for _ in range(num_steps)], linestyle='--')\n",
        "plt.plot([0.0 for _ in range(num_steps)], linestyle='--')\n",
        "plt.plot(optimality)\n",
        "plt.legend([\"Best Possible\", \"Worst Possible\", \"Greedy\"])\n",
        "plt.title(\"Average Optimality of Greedy Agent\", fontsize=14)\n",
        "plt.ylabel(\"% of Optimal Action Taken\")\n",
        "plt.xlabel(\"Steps\")\n",
        "plt.show()\n",
        "greedy_scores = averages\n",
        "greedy_optimality = optimality"
      ]
    },
    {
      "cell_type": "markdown",
      "metadata": {
        "id": "qWa-6MVh2se3"
      },
      "source": [
        "The Greedy Agent chooses the best action on average ~40% of the times. Additionally, extra experience won't improve it's score, as it usually lands on a sub-optimal action on the first steps, and stays there for ever. The Greedy Agent is not a good strategy for finding the optimal action on this scenario."
      ]
    },
    {
      "cell_type": "markdown",
      "metadata": {
        "id": "QKr4rdEa2se3"
      },
      "source": [
        "## The Epsilon-Greedy Agent\n",
        "\n",
        "Another strategy is the Epsilon Greedy Agent, which adds to the previous strategy. An Epsilon-Greedy Agent allows for some exploratory actions, by every once in a while choosing any action randomly, instead of always acting greedily. The probability of taking an exploratory action is defined by the parameter `epsilon`. An epsilon of `0` is a Greedy Agent. An epsilon of `0.2` means our agent takes a random action 20% of the time. An epsilon of `1` is an agent that behaves randomly. Let's build this new agent"
      ]
    },
    {
      "cell_type": "code",
      "execution_count": null,
      "metadata": {
        "id": "Poi42r3d2se3"
      },
      "outputs": [],
      "source": [
        "class EpsilonGreedyAgent(GreedyAgent):\n",
        "    def __init__(self, reward_estimates, epsilon):\n",
        "        GreedyAgent.__init__(self, reward_estimates)\n",
        "        # Store the epsilon value\n",
        "        assert epsilon >= 0 and epsilon <= 1\n",
        "        self.epsilon = epsilon\n",
        "\n",
        "    def get_action(self):\n",
        "        # We need to redefine this function so that it takes an exploratory action with epsilon probability\n",
        "\n",
        "        # One hot encoding: 0 if exploratory, 1 otherwise\n",
        "        action_type = (np.random.random_sample(self.num_experiments) > self.epsilon).astype(int)\n",
        "        # Generate both types of actions for every experiment\n",
        "        exploratory_action = np.random.randint(self.num_bandits, size=self.num_experiments)\n",
        "        greedy_action = argmax(self.reward_estimates)\n",
        "        # Use the one hot encoding to mask the actions for each experiment\n",
        "        action = greedy_action * action_type + exploratory_action * (1 - action_type)\n",
        "\n",
        "        self.action_count[np.arange(self.num_experiments), action] += 1\n",
        "\n",
        "        return action"
      ]
    },
    {
      "cell_type": "markdown",
      "metadata": {
        "id": "t1KQFxgD2se3"
      },
      "source": [
        "As may be seen, we're inheriting the `GreedyAgent` implementation, and only changing the `get_action` function. For taking an action, we're using a masking that defines which experiments will choose an action randomly and which will act greedily. Then, we apply that masking between random and greedy actions to obtain the action vector for all of our experiments."
      ]
    },
    {
      "cell_type": "markdown",
      "metadata": {
        "id": "f_hRV_Xk2se6"
      },
      "source": [
        "### Testing the Agent"
      ]
    },
    {
      "cell_type": "markdown",
      "metadata": {
        "id": "hPE2O8AU2se6"
      },
      "source": [
        "Here, we're going to use the same animation as before to observe how this new strategy behaves. Our agents will have a value of epsilon of `0.1`"
      ]
    },
    {
      "cell_type": "code",
      "execution_count": null,
      "metadata": {
        "id": "SWWsxxsa2se7"
      },
      "outputs": [],
      "source": [
        "# Initialize the environment of our multi-armed bandit problem\n",
        "num_experiments = 2\n",
        "num_bandits = 8\n",
        "num_steps = 200\n",
        "means = np.random.normal(size=(num_experiments, num_bandits))\n",
        "stdev = np.ones((num_experiments, num_bandits))\n",
        "\n",
        "env = ArmedBanditsEnv(means, stdev)\n",
        "\n",
        "# Initialize the agent\n",
        "agent = EpsilonGreedyAgent(np.zeros((num_experiments,num_bandits)), 0.1)\n",
        "\n",
        "# Code for plotting the interaction\n",
        "fig, axs = plt.subplots(1, num_experiments, figsize=(10, 4))\n",
        "x_pos = np.arange(num_bandits)\n",
        "\n",
        "def init():\n",
        "    for i in range(num_experiments):\n",
        "        init_ax(i)\n",
        "\n",
        "\n",
        "def init_ax(i):\n",
        "    ax = axs[i]\n",
        "    ax.clear()\n",
        "    ax.set_ylim(-4, 4)\n",
        "    ax.set_xlim(-0.5, num_bandits-.5)\n",
        "    ax.set_xlabel('Actions', fontsize=14)\n",
        "    ax.set_ylabel('Value', fontsize=14)\n",
        "    ax.set_title(label='Estimated Values vs. Real values', fontsize=15)\n",
        "    ax.plot(x_pos, env.mean[i], marker='D', linestyle='', alpha=0.8, color='r', label='Real Values')\n",
        "    ax.axhline(0, color='black', lw=1)\n",
        "\n",
        "# Implement a step, which involves the agent acting upon the\n",
        "# environment and learning from the received reward.\n",
        "def step(g):\n",
        "    action = agent.get_action()\n",
        "    _, reward, _, _ = env.step(action)\n",
        "    agent.update_estimates(reward, action)\n",
        "    for i in range(num_experiments):\n",
        "        ax = axs[i]\n",
        "        # Plot the estimated values from the agent compared to the real values\n",
        "        estimates = agent.reward_estimates[i]\n",
        "        init_ax(i)\n",
        "        values = ax.bar(x_pos, estimates, align='center', color='blue', alpha=0.4, label='Estimated Values')\n",
        "        ax.legend()\n",
        "\n",
        "anim = FuncAnimation(fig, func=step, frames=np.arange(num_steps), init_func=init, interval=10, repeat=False, blit=True)\n",
        "plt.show()\n",
        "\n",
        "# Uncomment the next line if you wish to store the animations as a gif\n",
        "# anim.save('./epsilon-greedy-agent.gif', writer='imagemagick', fps=60)"
      ]
    },
    {
      "cell_type": "markdown",
      "metadata": {
        "id": "kQBszQNX2se7"
      },
      "source": [
        "Again, you may run the previous block multiple times to see different runs. As can be observed, the epsilon-greedy agent not only finds the optimal solution most of the times, but it is also capable of finding close estimated values for all the actions! How does our new strategy compares to the greedy agent on average?"
      ]
    },
    {
      "cell_type": "code",
      "execution_count": null,
      "metadata": {
        "id": "gUk7GyL22se7"
      },
      "outputs": [],
      "source": [
        "def run_experiment(num_experiments=1000, num_steps=1000, num_actions=10,epsilon=0.1):\n",
        "    # Initialize the environment\n",
        "    env = ArmedBanditsGaussian(num_experiments, num_actions)\n",
        "    # Initialize the agent\n",
        "    agent = EpsilonGreedyAgent(np.zeros((num_experiments, num_actions)), epsilon)\n",
        "\n",
        "    # Store the scores and averages for later plotting\n",
        "    averages = np.zeros((num_steps))\n",
        "    optimality = np.zeros((num_steps))\n",
        "    scores = np.zeros((num_experiments, num_steps+1))\n",
        "\n",
        "    #Store the optimal actions for later use\n",
        "    optimal = np.argmax(env.mean, axis=1)\n",
        "\n",
        "    for i in tqdm(range(num_steps)):\n",
        "        # Select an action to execute on the environment\n",
        "        action = agent.get_action()\n",
        "        _, reward, _, _ = env.step(action)\n",
        "\n",
        "        # Update the agent estimates with the previously observed rewards\n",
        "        agent.update_estimates(reward, action)\n",
        "\n",
        "        # Store the average cumulative score and optimality of the current step\n",
        "        scores[:,i+1] = scores[:,i] + reward\n",
        "        avg_score = np.mean(scores[:,i+1]/(i+1))\n",
        "        averages[i] = avg_score\n",
        "\n",
        "        # Get optimal actions from the environment\n",
        "        current_optimality = np.mean(action == optimal)\n",
        "        optimality[i] = current_optimality\n",
        "    return optimality, averages"
      ]
    },
    {
      "cell_type": "code",
      "execution_count": null,
      "metadata": {
        "id": "RLNOrcM82se7"
      },
      "outputs": [],
      "source": [
        "num_experiments = 10000\n",
        "num_steps = 1000\n",
        "num_actions = 10\n",
        "epsilon = 0.1\n",
        "\n",
        "balanced_eps_optimality, balanced_eps_scores = run_experiment(num_experiments, num_steps, num_actions, epsilon)\n",
        "\n",
        "plt.figure(figsize=(12,6), dpi=80, facecolor='w', edgecolor='k')\n",
        "plt.plot([1.0 for _ in range(num_steps)], linestyle='--')\n",
        "plt.plot([0.0 for _ in range(num_steps)], linestyle='--')\n",
        "plt.plot(balanced_eps_optimality)\n",
        "plt.plot(greedy_optimality)\n",
        "plt.legend([\"Best Possible\", \"Worst Possible\", \"0.1 $\\epsilon$ Greedy\", \"Greedy\"])\n",
        "plt.title(\"Average Optimality of Greedy Agent vs Epsilon-Greedy Agent\")\n",
        "plt.ylabel(\"% of Optimal Action Taken\")\n",
        "plt.xlabel(\"Steps\")\n",
        "plt.show()"
      ]
    },
    {
      "cell_type": "markdown",
      "metadata": {
        "id": "h6yXM3Rw2se8"
      },
      "source": [
        "After 1000 steps, the Epsilon-Greedy Agent is capable of reaching an 80% average optimality. This means that on average, they choose the best possible action 80% of the times after that amount of iterations. We can also see how our agent is capable of improving from experience, contrary to the Greedy Agent."
      ]
    },
    {
      "cell_type": "markdown",
      "metadata": {
        "id": "vOGGfJRm2se8"
      },
      "source": [
        "## Values for epsilon"
      ]
    },
    {
      "cell_type": "markdown",
      "metadata": {
        "id": "4zx_9bwy2se8"
      },
      "source": [
        "On the previous example, we used a value for `epsilon` of `0.1`. This means that the agent chose an exploratory action 10% of the times. What would have happened if we chose another action? Like with almost all hyper-parameters in Machine Learning, there's a range of values which behave better than others. Let's make an actual experiment using different values for `epsilon`"
      ]
    },
    {
      "cell_type": "code",
      "execution_count": null,
      "metadata": {
        "id": "G-OedWQ72se8"
      },
      "outputs": [],
      "source": [
        "num_experiments = 1000\n",
        "num_steps = 1000\n",
        "num_actions = 10\n",
        "epsilons = np.array([0.0, 0.01, 0.1, 0.4])\n",
        "\n",
        "plt.figure(figsize=(12,6), dpi=80, facecolor='w', edgecolor='k')\n",
        "# plt.plot([1.6 for _ in range(num_steps)], linestyle='--') # why 1.6?\n",
        "\n",
        "\n",
        "for epsilon in epsilons:\n",
        "    _, reward = run_experiment(num_experiments, num_steps, num_actions, epsilon)\n",
        "\n",
        "    plt.plot(reward)\n",
        "\n",
        "# plt.legend([\"Best Possible\"] + epsilons.tolist())\n",
        "plt.legend(epsilons.tolist())\n",
        "plt.title(\"Average reward for multiple values of epsilon\")\n",
        "plt.xlabel(\"Steps\")\n",
        "plt.ylabel(\"Average Reward\")\n",
        "plt.show()"
      ]
    },
    {
      "cell_type": "markdown",
      "metadata": {
        "id": "e2NwECSH2se8"
      },
      "source": [
        "Here, we're plotting the average amount of reward received by the agent. This is because plotting the optimality on this many tests gets too crowded and noisy. As can be seen, the agent with an epsilon of `0.1` was the one that received the most amount of reward. Values of epsilon that are too small take very few exploratory actions, and therefore take a long time to explore and find the most optimal value. On the other hand, values of `epsilon` too high will obstruct the capacity of the agent of acting optimally. Too much exploration gets in the way of exploitation."
      ]
    },
    {
      "cell_type": "markdown",
      "metadata": {
        "id": "32BlCjd3HvId"
      },
      "source": [
        "***\n",
        "## Part B questions\n",
        "\n",
        "Now that we have familiarized ourselves with the basic setup let us test a few more stratergies as part of the assignment problem.\n",
        "\n",
        "Consider a two-armed Bernoulli bandit scenario with true means given by $\\mu_1 = \\frac{1}{2}, \\mu_2= \\frac{1}{2}+\\Delta$, for some $\\Delta < \\frac{1}{2}$. Let the time horizon be $T=10000$. `[20 Marks]`"
      ]
    },
    {
      "cell_type": "markdown",
      "metadata": {
        "id": "WdLV6yPvX8Nm"
      },
      "source": [
        "### B1\n",
        "Take $\\Delta=\\frac{1}{4}$ and run the Monte Carlo simulations to estimate the expected regret of the ETC algorithm which explores each arm $m = T^{2/3} (\\log T)^{1/3}$ times before committing. Specifically, you run the ETC algorithm to compute the sample regret\n",
        "$$ \\mu_2 * T - \\sum_{t=1}^T R_t, $$\n",
        "where $R_t$ is the reward obtained in time step $t$.\n",
        "\n",
        "Repeat this experiment 500 times and estimate the expected regret by taking the average of the sample regrets you obtained in all those 500 experiments. `[5 Marks]`"
      ]
    },
    {
      "cell_type": "code",
      "execution_count": null,
      "metadata": {
        "colab": {
          "base_uri": "https://localhost:8080/"
        },
        "id": "cc9KHFg9X8Nm",
        "outputId": "71c9e18e-534d-49b0-bb5a-e97588ab9e59"
      },
      "outputs": [
        {
          "name": "stdout",
          "output_type": "stream",
          "text": [
            "241.0\n"
          ]
        }
      ],
      "source": [
        "# write your code for the above part here\n",
        "import numpy as np\n",
        "import matplotlib.pyplot as plt\n",
        "T = 10000\n",
        "Regret = []\n",
        "\n",
        "delta = (1/4)\n",
        "mu_1 = 1/2\n",
        "mu_2 = (1/2) + delta\n",
        "\n",
        "m = int(T**(2/3)* (np.log(T))**(1/3))\n",
        "for i in range(500):\n",
        "  arm_1 = np.random.binomial(1,mu_1,m)\n",
        "  arm_2 = np.random.binomial(1,mu_2,m)\n",
        "  mean_arm_1 = np.mean(arm_1)\n",
        "  mean_arm_2 = np.mean(arm_2)\n",
        "  if mean_arm_1 >= mean_arm_2:\n",
        "    sample_regret = mu_2 * T - m * mean_arm_1 - m * mean_arm_2 - np.sum(np.random.binomial(1,mu_1,T-2*m))\n",
        "  else:\n",
        "    sample_regret = mu_2 * T - m * mean_arm_1 - m * mean_arm_2 - np.sum(np.random.binomial(1,mu_2,T-2*m))\n",
        "\n",
        "\n",
        "\n",
        "\n",
        "  Regret.append(sample_regret)\n",
        "\n",
        "\n",
        "print(np.mean(Regret))"
      ]
    },
    {
      "cell_type": "markdown",
      "metadata": {
        "id": "QyzlIL_RX8N0"
      },
      "source": [
        "### B2\n",
        "\n",
        "Repeat the above for various values of $\\Delta \\in \\{0.05, 0.1, 0.2, 0.3, 0.4, 0.45\\}$ and plot the estimated regret as a function of $\\Delta$ and verify whether it satisfies the regret upper bound we derived in class. `[5 Marks]`"
      ]
    },
    {
      "cell_type": "code",
      "execution_count": null,
      "metadata": {
        "colab": {
          "base_uri": "https://localhost:8080/",
          "height": 466
        },
        "id": "QLuRfsMxX8N0",
        "outputId": "a242f2f4-0256-4c74-ef7a-1a72b6cc2be3"
      },
      "outputs": [
        {
          "name": "stdout",
          "output_type": "stream",
          "text": [
            "[68.0, 169.0, 153.0, 263.0, 345.0, 420.0]\n",
            "[1374.8, 1777.6, 2583.2, 3388.7999999999997, 4194.4, 4597.200000000001]\n"
          ]
        },
        {
          "data": {
            "image/png": "[encoded data removed]",
            "text/plain": [
              "<Figure size 640x480 with 1 Axes>"
            ]
          },
          "metadata": {},
          "output_type": "display_data"
        }
      ],
      "source": [
        "# write your code for the above part here\n",
        "import numpy as np\n",
        "import matplotlib.pyplot as plt\n",
        "T = 10000\n",
        "delta = [0.05,0.1,0.2,0.3,0.4,0.45]\n",
        "mu1 = 1/2\n",
        "m = int(T**(2/3)* (np.log(T))**(1/3))\n",
        "regret = []\n",
        "regret_ub = []\n",
        "for d in delta:\n",
        "  mu2 = (1/2) + d\n",
        "  sample_regret=0\n",
        "  for i in range(500):\n",
        "    arm1 = np.mean(np.random.binomial(1,mu1,m))\n",
        "    arm2 = np.mean(np.random.binomial(1,mu2,m))\n",
        "    if arm1 >= arm2:\n",
        "     sample_regret = mu2 * T - m * arm1 - m * arm2 - np.sum(np.random.binomial(1,mu1,T-2*m))\n",
        "  else:\n",
        "    sample_regret = mu2 * T - m * arm1 - m * arm2 - np.sum(np.random.binomial(1,mu2,T-2*m))\n",
        "\n",
        "  regret.append(sample_regret)\n",
        "  ub_reg = m + (T-2*m)*d\n",
        "  regret_ub.append(ub_reg)\n",
        "\n",
        "print(regret)\n",
        "print(regret_ub)\n",
        "\n",
        "plt.plot(delta,regret_ub)\n",
        "plt.plot(delta,regret)\n",
        "plt.grid(True)"
      ]
    },
    {
      "cell_type": "markdown",
      "metadata": {
        "id": "UET9PXAZX8N0"
      },
      "source": [
        "### B3\n",
        "Repeat the experiment with the UCB algorithm and plot the comparison with ETC. `[10 Marks]`"
      ]
    },
    {
      "cell_type": "code",
      "execution_count": null,
      "metadata": {
        "colab": {
          "background_save": true
        },
        "id": "oVOZnTLmX8N2",
        "outputId": "8f3f1eeb-9e25-474f-c59f-f59a2cef2f50"
      },
      "outputs": [
        {
          "data": {
            "image/png": "[encoded data removed]",
            "text/plain": [
              "<Figure size 640x480 with 1 Axes>"
            ]
          },
          "metadata": {},
          "output_type": "display_data"
        }
      ],
      "source": [
        "# write your code for the above part here\n",
        "import numpy as np\n",
        "import matplotlib.pyplot as plt\n",
        "\n",
        "T = 10000\n",
        "delta_values = [0.05, 0.1, 0.2, 0.3, 0.4, 0.45]\n",
        "Regret_ETC = []\n",
        "Regret_UCB = []\n",
        "\n",
        "\n",
        "def ETC(T, mu_1, mu_2):\n",
        "    m = int(T**(2/3) * np.log(T)**(1/3))\n",
        "    n = T - 2 * m\n",
        "    arm_1 = np.random.binomial(1, mu_1, m)\n",
        "    arm_2 = np.random.binomial(1, mu_2, m)\n",
        "    mean_arm_1 = np.mean(arm_1)\n",
        "    mean_arm_2 = np.mean(arm_2)\n",
        "    regret = mu_2 * T - m * mean_arm_1 - m * mean_arm_2 - n * max(mean_arm_1, mean_arm_2)\n",
        "    return regret\n",
        "\n",
        "\n",
        "def UCB(T, mu_1, mu_2):\n",
        "    arm_pulls = np.zeros(2)\n",
        "    arm_rewards = np.zeros(2)\n",
        "    regret = 0\n",
        "\n",
        "    for t in range(1, T+1):\n",
        "        if t <= 2:\n",
        "            arm = t - 1\n",
        "        else:\n",
        "            ucb_values = arm_rewards / arm_pulls + np.sqrt(2 * np.log(t) / arm_pulls)\n",
        "            arm = np.argmax(ucb_values)\n",
        "\n",
        "        if arm == 0:\n",
        "            reward = np.random.binomial(1, mu_1)\n",
        "        else:\n",
        "            reward = np.random.binomial(1, mu_2)\n",
        "\n",
        "        arm_pulls[arm] += 1\n",
        "        arm_rewards[arm] += reward\n",
        "\n",
        "        if t > 2:\n",
        "            regret += mu_2 - reward\n",
        "\n",
        "    return regret\n",
        "\n",
        "for delta in delta_values:\n",
        "    mu_1 = 1/2\n",
        "    mu_2 = 1/2 + delta\n",
        "    regret_ETC = np.mean([ETC(T, mu_1, mu_2) for _ in range(500)])\n",
        "    regret_UCB = np.mean([UCB(T, mu_1, mu_2) for _ in range(500)])\n",
        "    Regret_ETC.append(regret_ETC)\n",
        "    Regret_UCB.append(regret_UCB)\n",
        "\n",
        "# Plotting\n",
        "plt.plot(delta_values, Regret_ETC, marker='o', label='ETC')\n",
        "plt.plot(delta_values, Regret_UCB, marker='o', label='UCB')\n",
        "plt.title('Estimated Regret for ETC vs UCB')\n",
        "plt.xlabel('Delta')\n",
        "plt.ylabel('Estimated Regret')\n",
        "plt.legend()\n",
        "plt.grid(True)\n",
        "plt.show()"
      ]
    },
    {
      "cell_type": "markdown",
      "metadata": {
        "id": "JR43_h0uX8N2"
      },
      "source": [
        "### B4\n",
        "(**Bonus**) In the ETC algorithm, assume that we know $\\Delta$, and choose a better $m$ as function of $\\Delta$ and repeat the experiments and compare with UCB. What did you observe?\n",
        "\n",
        "Hint: Check how many samples of exploration are required to make $\\epsilon < \\frac{\\Delta}{2}$ with a high probability of $1-\\frac{1}{T}$. `[5 Marks]`"
      ]
    },
    {
      "cell_type": "code",
      "execution_count": null,
      "metadata": {
        "id": "v56zVxGFX8N2"
      },
      "outputs": [],
      "source": [
        "# write your code for the above part here\n"
      ]
    }
  ],
  "metadata": {
    "colab": {
      "provenance": []
    },
    "kernelspec": {
      "display_name": "Python 3 (ipykernel)",
      "language": "python3",
      "name": "python3"
    },
    "language_info": {
      "codemirror_mode": {
        "name": "ipython",
        "version": 3
      },
      "file_extension": ".py",
      "mimetype": "text/x-python",
      "name": "python",
      "nbconvert_exporter": "python",
      "pygments_lexer": "ipython3",
      "version": "3.10.9"
    }
  },
  "nbformat": 4,
  "nbformat_minor": 0
}
